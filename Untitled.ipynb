{
 "cells": [
  {
   "cell_type": "code",
<<<<<<< HEAD
   "execution_count": 6,
   "id": "64481364",
   "metadata": {},
   "outputs": [],
   "source": [
    "import speech_recognition as sr\n",
    "import pyttsx3 \n",
    "from translate import Translator\n",
    "from gtts import gTTS\n",
    "from playsound import playsound\n",
=======
   "execution_count": 1,
   "id": "2dfb5744",
   "metadata": {},
   "outputs": [
    {
     "name": "stderr",
     "output_type": "stream",
     "text": [
      "2022-04-19 08:18:33.110370: W tensorflow/stream_executor/platform/default/dso_loader.cc:64] Could not load dynamic library 'libcudart.so.11.0'; dlerror: libcudart.so.11.0: cannot open shared object file: No such file or directory\n",
      "2022-04-19 08:18:33.110385: I tensorflow/stream_executor/cuda/cudart_stub.cc:29] Ignore above cudart dlerror if you do not have a GPU set up on your machine.\n"
     ]
    }
   ],
   "source": [
    "import speech_recognition as sr\n",
    "import pyttsx3 \n",
>>>>>>> dccf68c3725df905c83aaaac2f27f81ad19267c8
    "import json\n",
    "import numpy as np \n",
    "from tensorflow import keras\n",
    "from sklearn.preprocessing import LabelEncoder\n",
    "import pandas as pd \n",
    "from sklearn.preprocessing import MinMaxScaler\n",
    "from sklearn import neighbors\n",
    "import colorama\n",
    "colorama.init\n",
    "from colorama import Fore, Style, Back\n",
    "import random\n",
<<<<<<< HEAD
    "import pickle\n",
    "import os\n",
    "from pathlib import Path"
=======
    "import pickle"
>>>>>>> dccf68c3725df905c83aaaac2f27f81ad19267c8
   ]
  },
  {
   "cell_type": "code",
<<<<<<< HEAD
   "execution_count": 7,
   "id": "1323505f",
=======
   "execution_count": 2,
   "id": "1db876a9",
>>>>>>> dccf68c3725df905c83aaaac2f27f81ad19267c8
   "metadata": {},
   "outputs": [
    {
     "name": "stderr",
     "output_type": "stream",
     "text": [
<<<<<<< HEAD
      "C:\\Users\\safee\\AppData\\Local\\Temp\\ipykernel_7032\\927038817.py:3: FutureWarning: The error_bad_lines argument has been deprecated and will be removed in a future version. Use on_bad_lines in the future.\n",
=======
      "/tmp/ipykernel_40318/927038817.py:3: FutureWarning: The error_bad_lines argument has been deprecated and will be removed in a future version. Use on_bad_lines in the future.\n",
>>>>>>> dccf68c3725df905c83aaaac2f27f81ad19267c8
      "\n",
      "\n",
      "  df = pd.read_csv('books.csv', error_bad_lines = False)\n",
      "b'Skipping line 3350: expected 12 fields, saw 13\\nSkipping line 4704: expected 12 fields, saw 13\\nSkipping line 5879: expected 12 fields, saw 13\\nSkipping line 8981: expected 12 fields, saw 13\\n'\n"
     ]
    }
   ],
   "source": [
    "with open('intents.json') as file:\n",
    "    data = json.load(file)\n",
    "df = pd.read_csv('books.csv', error_bad_lines = False)\n",
    "def num_into_obj(x):\n",
    "    if x>=0 and x<=1:\n",
    "        return 'between 0 and 1'\n",
    "    elif x>1 and x<=2:\n",
    "        return 'between 1 and 2'\n",
    "    elif x>2 and x<=3:\n",
    "        return 'between 2 and 3'\n",
    "    elif x>3 and x<=4:\n",
    "        return 'between 3 and 4'\n",
    "    else:\n",
    "        return 'between 4 and 5'\n",
    "    \n",
    "df['rating_obj'] = df['average_rating'].apply(num_into_obj)\n",
    "rating_df = pd.get_dummies(df['rating_obj'])\n",
    "language_df = pd.get_dummies(df['language_code'])\n",
    "features = pd.concat([rating_df, language_df, df['average_rating'], df['ratings_count'],df['title']], axis=1)\n",
    "features.set_index('title', inplace=True)\n",
    "min_max_scaler = MinMaxScaler()\n",
    "features_scaled = min_max_scaler.fit_transform(features)\n",
    "model = neighbors.NearestNeighbors(n_neighbors=6, algorithm='ball_tree', metric='euclidean')\n",
    "model.fit(features_scaled)\n",
    "dist, idlist = model.kneighbors(features_scaled)\n",
    "r = sr.Recognizer() \n",
    "def SpeakText(command):\n",
    "      \n",
    "    # Initialize the engine\n",
    "    engine = pyttsx3.init()\n",
    "    engine.say(command) \n",
    "    engine.runAndWait()"
   ]
  },
  {
   "cell_type": "code",
<<<<<<< HEAD
   "execution_count": 8,
   "id": "bd20d133",
=======
   "execution_count": 3,
   "id": "dc23b78a",
>>>>>>> dccf68c3725df905c83aaaac2f27f81ad19267c8
   "metadata": {},
   "outputs": [],
   "source": [
    "def chat():\n",
    "    \n",
    "    model = keras.models.load_model('voice_assistant')\n",
    "    with open('tokenizer.pickle','rb') as handle:\n",
    "        tokenizer = pickle.load(handle)\n",
    "    with open('lbl_encoder.pickle','rb') as ecn:\n",
    "        lbl_encoder = pickle.load(ecn)\n",
    "    max_len = 20\n",
    "    \n",
    "    while(1):\n",
    "        try:\n",
    "            \n",
    "            with sr.Microphone() as source2:\n",
    "                r.adjust_for_ambient_noise(source2, duration=0.2)\n",
    "                audio2 = r.listen(source2)\n",
    "                MyText = r.recognize_google(audio2)\n",
    "                MyText = MyText.lower()\n",
<<<<<<< HEAD
    "                translator=Translator(from_lang='en',to_lang=\"ml\")\n",
    "                print(\"User: \"+ MyText)\n",
    "                if MyText.lower() == \"bye\":\n",
    "                    break\n",
    "                if MyText.lower() == \"book search\":\n",
    "                    text=\"Tell book name you like\"\n",
    "                    translation=translator.translate(text)\n",
    "                    print(\"Tell book name you like\")\n",
    "                    print(Fore.GREEN + \"NUBI: \"+translation)\n",
    "                    mal=gTTS(translation,lang=\"ml\")\n",
    "                    mal.save(\"voice5.mp3\")\n",
    "                    playsound(\"voice5.mp3\")\n",
    "                    os.remove(\"voice5.mp3\")\n",
    "                    #print(\"Tell book name you like\")\n",
    "                    #SpeakText(\"Tell book name you like\")\n",
=======
    "                if MyText.lower() == \"bye\":\n",
    "                    break\n",
    "                if MyText.lower() == \"book search\":\n",
    "                    print(\"Tell book name you like\")\n",
    "                    SpeakText(\"Tell book name you like\")\n",
>>>>>>> dccf68c3725df905c83aaaac2f27f81ad19267c8
    "                    while(1):\n",
    "                        try:\n",
    "                            with sr.Microphone() as source2:\n",
    "                                r.adjust_for_ambient_noise(source2, duration=0.2)\n",
    "                                audio2 = r.listen(source2)\n",
    "                                MyBook = r.recognize_google(audio2)\n",
    "                                MyBooks = MyBook.lower()\n",
    "                                book=MyBooks.title()\n",
    "                                print(book)\n",
    "                                \n",
    "                                def BookRecommender(book):\n",
    "                                    book_list_name = []\n",
    "                                    book_id = df[df['title'] == book].index\n",
    "                                    book_id = book_id[0]\n",
    "                                    for newid in idlist[book_id]:\n",
    "                                        book_list_name.append(df.loc[newid].title)\n",
    "                                        SpeakText(df.loc[newid].title)\n",
    "                                        print(df.loc[newid].title)\n",
    "                                    return\n",
    "                                if MyText.lower() == \"thank you\":\n",
    "                                    break\n",
<<<<<<< HEAD
    "                                print(Fore.GREEN + \"NUBI: \"+\"I would prefer that you read.\")\n",
    "                                SpeakText(\"I would prefer that you read\")\n",
=======
>>>>>>> dccf68c3725df905c83aaaac2f27f81ad19267c8
    "                                BookRecommender(book)\n",
    "                        except sr.RequestError as e:\n",
    "                            print(\"Could not request results; {0}\".format(e))\n",
    "                            \n",
    "            result = model.predict(keras.preprocessing.sequence.pad_sequences(tokenizer.texts_to_sequences([MyText]),\n",
    "                                                                           truncating='post',maxlen=max_len))\n",
    "            \n",
    "            tag = lbl_encoder.inverse_transform([np.argmax(result)])\n",
    "            for i in data['intents']:\n",
    "                if i['tag']==tag:\n",
    "                    print(Fore.GREEN + \"NUBI: \"+ Style.RESET_ALL,np.random.choice(i['responses']))\n",
<<<<<<< HEAD
    "                    translation=translator.translate(np.random.choice(i['responses']))\n",
    "                    print(\"NUBI:\"+translation)\n",
    "                    mal=gTTS(translation,lang=\"ml\")\n",
    "                    mal.save(\"voice.mp3\")\n",
    "                    playsound(\"voice.mp3\")\n",
    "                    os.remove(\"voice.mp3\")\n",
=======
>>>>>>> dccf68c3725df905c83aaaac2f27f81ad19267c8
    "                    SpeakText(np.random.choice(i['responses']))\n",
    "                    \n",
    "        except sr.RequestError as e:\n",
    "             print(\"Could not request results; {0}\".format(e))\n",
    "        except sr.UnknownValueError:\n",
<<<<<<< HEAD
    "            translator=Translator(from_lang='en',to_lang=\"ml\")\n",
    "            text=\"I'm sorry, but I'm unable to hear you.\"\n",
    "            translation=translator.translate(text)\n",
    "            print(Fore.GREEN + \"NUBI: \"+translation)\n",
    "            mal=gTTS(translation,lang=\"ml\")\n",
    "            mal.save(\"voice2.mp3\")\n",
    "            playsound(\"voice2.mp3\")\n",
    "            os.remove(\"voice2.mp3\")\n",
=======
    "            print( \"NUBI:I can't hear you\")\n",
    "            SpeakText(\"I can't hear you\")\n",
>>>>>>> dccf68c3725df905c83aaaac2f27f81ad19267c8
    "           \n",
    "                                    \n",
    "        "
   ]
  },
  {
   "cell_type": "code",
<<<<<<< HEAD
   "execution_count": 9,
   "id": "6e102ecb",
   "metadata": {},
   "outputs": [
    {
     "name": "stdout",
     "output_type": "stream",
     "text": [
      "User: sunderkand\n",
      "\u001b[32mNUBI: \u001b[0m Bye! Come back again\n",
      "NUBI:പിന്നെ കാണാം\n",
      "User: hai\n",
      "\u001b[32mNUBI: \u001b[0m Have a nice day\n",
      "NUBI:ബൈ! വീണ്ടും വരിക\n",
      "User: what all services you provide\n",
      "\u001b[32mNUBI: \u001b[0m The book search is the only one I'm offering right now other services will be added soon\n",
      "NUBI:പുസ്‌തക തിരയൽ മാത്രമാണ് ഞാൻ ഇപ്പോൾ ഓഫർ ചെയ്യുന്നത് മറ്റ് സേവനങ്ങൾ ഉടൻ ചേർക്കും\n",
      "User: book search\n",
      "Tell book name you like\n",
      "\u001b[32mNUBI: നിങ്ങൾക്ക് ഇഷ്ടമുള്ള പുസ്തകത്തിന്റെ പേര് പറയൂ\n",
      "Treasure Island\n",
      "\u001b[32mNUBI: I would prefer that you read.\n",
      "Treasure Island\n",
      "Can You Keep a Secret?\n",
      "Who Moved My Cheese?\n",
      "Beloved\n",
      "The Iliad\n",
      "Inkheart (Inkworld  #1)\n",
      "English Mein\n",
      "\u001b[32mNUBI: I would prefer that you read.\n"
     ]
    },
    {
     "ename": "IndexError",
     "evalue": "index 0 is out of bounds for axis 0 with size 0",
     "output_type": "error",
     "traceback": [
      "\u001b[1;31m---------------------------------------------------------------------------\u001b[0m",
      "\u001b[1;31mIndexError\u001b[0m                                Traceback (most recent call last)",
      "Input \u001b[1;32mIn [9]\u001b[0m, in \u001b[0;36m<cell line: 1>\u001b[1;34m()\u001b[0m\n\u001b[1;32m----> 1\u001b[0m \u001b[43mchat\u001b[49m\u001b[43m(\u001b[49m\u001b[43m)\u001b[49m\n",
      "Input \u001b[1;32mIn [8]\u001b[0m, in \u001b[0;36mchat\u001b[1;34m()\u001b[0m\n\u001b[0;32m     54\u001b[0m         \u001b[38;5;28mprint\u001b[39m(Fore\u001b[38;5;241m.\u001b[39mGREEN \u001b[38;5;241m+\u001b[39m \u001b[38;5;124m\"\u001b[39m\u001b[38;5;124mNUBI: \u001b[39m\u001b[38;5;124m\"\u001b[39m\u001b[38;5;241m+\u001b[39m\u001b[38;5;124m\"\u001b[39m\u001b[38;5;124mI would prefer that you read.\u001b[39m\u001b[38;5;124m\"\u001b[39m)\n\u001b[0;32m     55\u001b[0m         SpeakText(\u001b[38;5;124m\"\u001b[39m\u001b[38;5;124mI would prefer that you read\u001b[39m\u001b[38;5;124m\"\u001b[39m)\n\u001b[1;32m---> 56\u001b[0m         \u001b[43mBookRecommender\u001b[49m\u001b[43m(\u001b[49m\u001b[43mbook\u001b[49m\u001b[43m)\u001b[49m\n\u001b[0;32m     57\u001b[0m \u001b[38;5;28;01mexcept\u001b[39;00m sr\u001b[38;5;241m.\u001b[39mRequestError \u001b[38;5;28;01mas\u001b[39;00m e:\n\u001b[0;32m     58\u001b[0m     \u001b[38;5;28mprint\u001b[39m(\u001b[38;5;124m\"\u001b[39m\u001b[38;5;124mCould not request results; \u001b[39m\u001b[38;5;132;01m{0}\u001b[39;00m\u001b[38;5;124m\"\u001b[39m\u001b[38;5;241m.\u001b[39mformat(e))\n",
      "Input \u001b[1;32mIn [8]\u001b[0m, in \u001b[0;36mchat.<locals>.BookRecommender\u001b[1;34m(book)\u001b[0m\n\u001b[0;32m     44\u001b[0m book_list_name \u001b[38;5;241m=\u001b[39m []\n\u001b[0;32m     45\u001b[0m book_id \u001b[38;5;241m=\u001b[39m df[df[\u001b[38;5;124m'\u001b[39m\u001b[38;5;124mtitle\u001b[39m\u001b[38;5;124m'\u001b[39m] \u001b[38;5;241m==\u001b[39m book]\u001b[38;5;241m.\u001b[39mindex\n\u001b[1;32m---> 46\u001b[0m book_id \u001b[38;5;241m=\u001b[39m \u001b[43mbook_id\u001b[49m\u001b[43m[\u001b[49m\u001b[38;5;241;43m0\u001b[39;49m\u001b[43m]\u001b[49m\n\u001b[0;32m     47\u001b[0m \u001b[38;5;28;01mfor\u001b[39;00m newid \u001b[38;5;129;01min\u001b[39;00m idlist[book_id]:\n\u001b[0;32m     48\u001b[0m     book_list_name\u001b[38;5;241m.\u001b[39mappend(df\u001b[38;5;241m.\u001b[39mloc[newid]\u001b[38;5;241m.\u001b[39mtitle)\n",
      "File \u001b[1;32m~\\AppData\\Local\\Programs\\Python\\Python39\\lib\\site-packages\\pandas\\core\\indexes\\base.py:5039\u001b[0m, in \u001b[0;36mIndex.__getitem__\u001b[1;34m(self, key)\u001b[0m\n\u001b[0;32m   5036\u001b[0m \u001b[38;5;28;01mif\u001b[39;00m is_integer(key) \u001b[38;5;129;01mor\u001b[39;00m is_float(key):\n\u001b[0;32m   5037\u001b[0m     \u001b[38;5;66;03m# GH#44051 exclude bool, which would return a 2d ndarray\u001b[39;00m\n\u001b[0;32m   5038\u001b[0m     key \u001b[38;5;241m=\u001b[39m com\u001b[38;5;241m.\u001b[39mcast_scalar_indexer(key, warn_float\u001b[38;5;241m=\u001b[39m\u001b[38;5;28;01mTrue\u001b[39;00m)\n\u001b[1;32m-> 5039\u001b[0m     \u001b[38;5;28;01mreturn\u001b[39;00m \u001b[43mgetitem\u001b[49m\u001b[43m(\u001b[49m\u001b[43mkey\u001b[49m\u001b[43m)\u001b[49m\n\u001b[0;32m   5041\u001b[0m \u001b[38;5;28;01mif\u001b[39;00m \u001b[38;5;28misinstance\u001b[39m(key, \u001b[38;5;28mslice\u001b[39m):\n\u001b[0;32m   5042\u001b[0m     \u001b[38;5;66;03m# This case is separated from the conditional above to avoid\u001b[39;00m\n\u001b[0;32m   5043\u001b[0m     \u001b[38;5;66;03m# pessimization com.is_bool_indexer and ndim checks.\u001b[39;00m\n\u001b[0;32m   5044\u001b[0m     result \u001b[38;5;241m=\u001b[39m getitem(key)\n",
      "\u001b[1;31mIndexError\u001b[0m: index 0 is out of bounds for axis 0 with size 0"
     ]
    }
   ],
=======
   "execution_count": null,
   "id": "6fdbebae",
   "metadata": {},
   "outputs": [],
>>>>>>> dccf68c3725df905c83aaaac2f27f81ad19267c8
   "source": [
    "chat()"
   ]
  },
  {
   "cell_type": "code",
<<<<<<< HEAD
   "execution_count": null,
   "id": "3755e9b5",
=======
   "execution_count": 7,
   "id": "6cfea13a",
   "metadata": {},
   "outputs": [
    {
     "name": "stdout",
     "output_type": "stream",
     "text": [
      "\u001b[31mERROR: Could not find a version that satisfies the requirement asrtoolkot (from versions: none)\u001b[0m\u001b[31m\n",
      "\u001b[0m\u001b[31mERROR: No matching distribution found for asrtoolkot\u001b[0m\u001b[31m\n",
      "\u001b[0mNote: you may need to restart the kernel to use updated packages.\n"
     ]
    }
   ],
   "source": [
    "pip install asrtoolkot"
   ]
  },
  {
   "cell_type": "code",
   "execution_count": null,
   "id": "b731e82d",
>>>>>>> dccf68c3725df905c83aaaac2f27f81ad19267c8
   "metadata": {},
   "outputs": [],
   "source": []
  }
 ],
 "metadata": {
  "kernelspec": {
   "display_name": "Python 3 (ipykernel)",
   "language": "python",
   "name": "python3"
  },
  "language_info": {
   "codemirror_mode": {
    "name": "ipython",
    "version": 3
   },
   "file_extension": ".py",
   "mimetype": "text/x-python",
   "name": "python",
   "nbconvert_exporter": "python",
   "pygments_lexer": "ipython3",
<<<<<<< HEAD
   "version": "3.9.10"
=======
   "version": "3.8.10"
>>>>>>> dccf68c3725df905c83aaaac2f27f81ad19267c8
  }
 },
 "nbformat": 4,
 "nbformat_minor": 5
}
