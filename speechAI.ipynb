{
 "cells": [
  {
   "cell_type": "code",
   "execution_count": 1,
   "id": "1aeaa6db",
   "metadata": {},
   "outputs": [
    {
     "name": "stderr",
     "output_type": "stream",
     "text": [
      "2022-04-19 07:46:03.465597: W tensorflow/stream_executor/platform/default/dso_loader.cc:64] Could not load dynamic library 'libcudart.so.11.0'; dlerror: libcudart.so.11.0: cannot open shared object file: No such file or directory\n",
      "2022-04-19 07:46:03.465613: I tensorflow/stream_executor/cuda/cudart_stub.cc:29] Ignore above cudart dlerror if you do not have a GPU set up on your machine.\n"
     ]
    }
   ],
   "source": [
    "import speech_recognition as sr\n",
    "import pyttsx3 \n",
    "from translate import Translator\n",
    "from gtts import gTTS\n",
    "from playsound import playsound\n",
    "import json\n",
    "import numpy as np \n",
    "from tensorflow import keras\n",
    "from sklearn.preprocessing import LabelEncoder\n",
    "import pandas as pd \n",
    "from sklearn.preprocessing import MinMaxScaler\n",
    "from sklearn import neighbors\n",
    "import colorama\n",
    "colorama.init\n",
    "from colorama import Fore, Style, Back\n",
    "import random\n",
    "import pickle\n",
    "import os\n",
    "from pathlib import Path\n"
   ]
  },
  {
   "cell_type": "code",
   "execution_count": 2,
   "id": "c3d936cd",
   "metadata": {},
   "outputs": [],
   "source": [
    "with open('intents.json') as file:\n",
    "    data = json.load(file)"
   ]
  },
  {
   "cell_type": "code",
   "execution_count": 1,
   "id": "a432d20e",
   "metadata": {},
   "outputs": [
    {
<<<<<<< HEAD
     "name": "stderr",
     "output_type": "stream",
     "text": [
      "C:\\Users\\safee\\AppData\\Local\\Temp\\ipykernel_7584\\397317604.py:1: FutureWarning: The error_bad_lines argument has been deprecated and will be removed in a future version. Use on_bad_lines in the future.\n",
      "\n",
      "\n",
      "  df = pd.read_csv('books.csv', error_bad_lines = False)\n",
      "b'Skipping line 3350: expected 12 fields, saw 13\\nSkipping line 4704: expected 12 fields, saw 13\\nSkipping line 5879: expected 12 fields, saw 13\\nSkipping line 8981: expected 12 fields, saw 13\\n'\n"
=======
     "ename": "NameError",
     "evalue": "name 'pd' is not defined",
     "output_type": "error",
     "traceback": [
      "\u001b[0;31m---------------------------------------------------------------------------\u001b[0m",
      "\u001b[0;31mNameError\u001b[0m                                 Traceback (most recent call last)",
      "Input \u001b[0;32mIn [1]\u001b[0m, in \u001b[0;36m<cell line: 1>\u001b[0;34m()\u001b[0m\n\u001b[0;32m----> 1\u001b[0m df \u001b[38;5;241m=\u001b[39m \u001b[43mpd\u001b[49m\u001b[38;5;241m.\u001b[39mread_csv(\u001b[38;5;124m'\u001b[39m\u001b[38;5;124mbooks.csv\u001b[39m\u001b[38;5;124m'\u001b[39m, error_bad_lines \u001b[38;5;241m=\u001b[39m \u001b[38;5;28;01mFalse\u001b[39;00m)\n\u001b[1;32m      2\u001b[0m df\u001b[38;5;241m.\u001b[39mhead()\n",
      "\u001b[0;31mNameError\u001b[0m: name 'pd' is not defined"
>>>>>>> dccf68c3725df905c83aaaac2f27f81ad19267c8
     ]
    }
   ],
   "source": [
    "df = pd.read_csv('books.csv', error_bad_lines = False)"
   ]
  },
  {
   "cell_type": "code",
   "execution_count": 4,
   "id": "caff08b8",
   "metadata": {},
   "outputs": [],
   "source": [
    "# converting average rating column into categorical column\n",
    "def num_into_obj(x):\n",
    "    if x>=0 and x<=1:\n",
    "        return 'between 0 and 1'\n",
    "    elif x>1 and x<=2:\n",
    "        return 'between 1 and 2'\n",
    "    elif x>2 and x<=3:\n",
    "        return 'between 2 and 3'\n",
    "    elif x>3 and x<=4:\n",
    "        return 'between 3 and 4'\n",
    "    else:\n",
    "        return 'between 4 and 5'\n",
    "    \n",
    "df['rating_obj'] = df['average_rating'].apply(num_into_obj)"
   ]
  },
  {
   "cell_type": "code",
   "execution_count": 5,
   "id": "81728a1f",
   "metadata": {},
   "outputs": [],
   "source": [
    "# Let's encode the categorical column\n",
    "rating_df = pd.get_dummies(df['rating_obj'])\n",
    "#rating_df.head()"
   ]
  },
  {
   "cell_type": "code",
   "execution_count": 6,
   "id": "cd24dbfe",
   "metadata": {},
   "outputs": [],
   "source": [
    "# Let's encode the language code column as well\n",
    "language_df = pd.get_dummies(df['language_code'])\n",
    "#language_df.head()"
   ]
  },
  {
   "cell_type": "code",
   "execution_count": 7,
   "id": "0f67d561",
   "metadata": {},
   "outputs": [],
   "source": [
    "# Let's concat both the data frames and set the title column as the index \n",
    "features = pd.concat([rating_df, language_df, df['average_rating'], df['ratings_count'],df['title']], axis=1)\n",
    "features.set_index('title', inplace=True)\n",
    "#features.head()"
   ]
  },
  {
   "cell_type": "code",
   "execution_count": 8,
   "id": "e1b73c45",
   "metadata": {},
   "outputs": [],
   "source": [
    "min_max_scaler = MinMaxScaler()\n",
    "features_scaled = min_max_scaler.fit_transform(features)"
   ]
  },
  {
   "cell_type": "code",
   "execution_count": 9,
   "id": "53cef58c",
   "metadata": {},
   "outputs": [],
   "source": [
    "model = neighbors.NearestNeighbors(n_neighbors=6, algorithm='ball_tree', metric='euclidean')\n",
    "model.fit(features_scaled)\n",
    "dist, idlist = model.kneighbors(features_scaled)"
   ]
  },
  {
   "cell_type": "code",
   "execution_count": 10,
   "id": "d372eadb",
   "metadata": {},
   "outputs": [],
   "source": [
    "# Initialize the recognizer \n",
    "r = sr.Recognizer() "
   ]
  },
  {
   "cell_type": "code",
   "execution_count": 57,
   "id": "098dd517",
   "metadata": {},
   "outputs": [],
   "source": [
    "# Function to convert text to\n",
    "# speech\n",
    "def SpeakText(command):\n",
    "      \n",
    "    # Initialize the engine\n",
    "    engine = pyttsx3.init()\n",
    "    engine.say(command) \n",
    "    engine.runAndWait()\n",
    "\n",
    "def recommend_books_on_authors(authors):\n",
    "    a = df[df['authors']==authors][['title','average_rating']]\n",
    "    a = a.sort_values(by = 'average_rating', ascending=False)\n",
    "    h = a.head(6)\n",
    "    for x in h['title']:\n",
    "        SpeakText(x)\n",
    "        print(x)\n",
    "        \n",
    "def recommend_books_on_publishers(publishers): \n",
    "    a = df[df['publisher']==publishers][['title','average_rating']]\n",
    "    a = a.sort_values(by = 'average_rating', ascending=False)\n",
    "    h = a.head(6)\n",
    "    for x in h['title']:\n",
    "        SpeakText(x)\n",
    "        print(x)       \n",
    "        \n",
    "def BookRecommender(book):\n",
    "    book_list_name = []\n",
    "    book_id = df[df['title'] == book].index\n",
    "    book_id = book_id[0]\n",
    "    #if MyText.lower() == \"thank you\":\n",
    "    try:        \n",
    "        #break\n",
    "        for newid in idlist[book_id]:\n",
    "            book_list_name.append(df.loc[newid].title)\n",
    "            SpeakText(df.loc[newid].title)\n",
    "            print(df.loc[newid].title)\n",
    "        return\n",
    "    except Exception as err:\n",
    "        print( \"NUBI:I can't hear you\")"
   ]
  },
  {
   "cell_type": "code",
<<<<<<< HEAD
   "execution_count": 55,
=======
   "execution_count": 19,
>>>>>>> dccf68c3725df905c83aaaac2f27f81ad19267c8
   "id": "2168a91c",
   "metadata": {},
   "outputs": [
    {
     "name": "stdout",
     "output_type": "stream",
     "text": [
<<<<<<< HEAD
      "User: book search\n",
      "\u001b[32mNUBI: നിങ്ങൾക്ക് മൂന്ന് തരത്തിൽ ഒരു പുസ്തകം തിരയാൻ കഴിയും: രചയിതാവ്, പ്രസാധകൻ, പേര് എന്നിവ പ്രകാരം. നിങ്ങളുടെ ഇഷ്ടപ്പെട്ട ചോയ്‌സ് ഏതാണ്?\n",
      "Publisher\n",
      "\u001b[32mNUBI: നിങ്ങളുടെ പ്രസാധകന്റെ പേര് പറയുക\n",
      "Building On\n",
      "\u001b[32mNUBI: I would prefer that you read.\n",
      "Stephen\n",
      "\u001b[32mchatBot: എന്നോട് ക്ഷമിക്കൂ, പക്ഷേ എനിക്ക് നിങ്ങളുടെ വാക്കുകൾ കേൾക്കാൻ കഴിയുന്നില്ല.\n",
      "\u001b[32mchatBot: എന്നോട് ക്ഷമിക്കൂ, പക്ഷേ എനിക്ക് നിങ്ങളുടെ വാക്കുകൾ കേൾക്കാൻ കഴിയുന്നില്ല.\n",
      "User: bye\n"
=======
      "WARNING:tensorflow:SavedModel saved prior to TF 2.5 detected when loading Keras model. Please ensure that you are saving the model with model.save() or tf.keras.models.save_model(), *NOT* tf.saved_model.save(). To confirm, there should be a file named \"keras_metadata.pb\" in the SavedModel directory.\n",
      "NUBI:I can't hear you\n"
     ]
    },
    {
     "ename": "OSError",
     "evalue": "libespeak.so.1: cannot open shared object file: No such file or directory",
     "output_type": "error",
     "traceback": [
      "\u001b[0;31m---------------------------------------------------------------------------\u001b[0m",
      "\u001b[0;31mUnknownValueError\u001b[0m                         Traceback (most recent call last)",
      "Input \u001b[0;32mIn [19]\u001b[0m, in \u001b[0;36m<cell line: 13>\u001b[0;34m()\u001b[0m\n\u001b[1;32m     26\u001b[0m \u001b[38;5;66;03m# Using ggogle to recognize audio\u001b[39;00m\n\u001b[0;32m---> 27\u001b[0m MyText \u001b[38;5;241m=\u001b[39m \u001b[43mr\u001b[49m\u001b[38;5;241;43m.\u001b[39;49m\u001b[43mrecognize_google\u001b[49m\u001b[43m(\u001b[49m\u001b[43maudio2\u001b[49m\u001b[43m)\u001b[49m\n\u001b[1;32m     28\u001b[0m MyText \u001b[38;5;241m=\u001b[39m MyText\u001b[38;5;241m.\u001b[39mlower()\n",
      "File \u001b[0;32m~/notebook/jupyterenv/lib/python3.8/site-packages/speech_recognition/__init__.py:858\u001b[0m, in \u001b[0;36mRecognizer.recognize_google\u001b[0;34m(self, audio_data, key, language, show_all)\u001b[0m\n\u001b[1;32m    857\u001b[0m \u001b[38;5;28;01mif\u001b[39;00m show_all: \u001b[38;5;28;01mreturn\u001b[39;00m actual_result\n\u001b[0;32m--> 858\u001b[0m \u001b[38;5;28;01mif\u001b[39;00m \u001b[38;5;129;01mnot\u001b[39;00m \u001b[38;5;28misinstance\u001b[39m(actual_result, \u001b[38;5;28mdict\u001b[39m) \u001b[38;5;129;01mor\u001b[39;00m \u001b[38;5;28mlen\u001b[39m(actual_result\u001b[38;5;241m.\u001b[39mget(\u001b[38;5;124m\"\u001b[39m\u001b[38;5;124malternative\u001b[39m\u001b[38;5;124m\"\u001b[39m, [])) \u001b[38;5;241m==\u001b[39m \u001b[38;5;241m0\u001b[39m: \u001b[38;5;28;01mraise\u001b[39;00m UnknownValueError()\n\u001b[1;32m    860\u001b[0m \u001b[38;5;28;01mif\u001b[39;00m \u001b[38;5;124m\"\u001b[39m\u001b[38;5;124mconfidence\u001b[39m\u001b[38;5;124m\"\u001b[39m \u001b[38;5;129;01min\u001b[39;00m actual_result[\u001b[38;5;124m\"\u001b[39m\u001b[38;5;124malternative\u001b[39m\u001b[38;5;124m\"\u001b[39m]:\n\u001b[1;32m    861\u001b[0m     \u001b[38;5;66;03m# return alternative with highest confidence score\u001b[39;00m\n",
      "\u001b[0;31mUnknownValueError\u001b[0m: ",
      "\nDuring handling of the above exception, another exception occurred:\n",
      "\u001b[0;31mKeyError\u001b[0m                                  Traceback (most recent call last)",
      "File \u001b[0;32m~/notebook/jupyterenv/lib/python3.8/site-packages/pyttsx3/__init__.py:20\u001b[0m, in \u001b[0;36minit\u001b[0;34m(driverName, debug)\u001b[0m\n\u001b[1;32m     19\u001b[0m \u001b[38;5;28;01mtry\u001b[39;00m:\n\u001b[0;32m---> 20\u001b[0m     eng \u001b[38;5;241m=\u001b[39m \u001b[43m_activeEngines\u001b[49m\u001b[43m[\u001b[49m\u001b[43mdriverName\u001b[49m\u001b[43m]\u001b[49m\n\u001b[1;32m     21\u001b[0m \u001b[38;5;28;01mexcept\u001b[39;00m \u001b[38;5;167;01mKeyError\u001b[39;00m:\n",
      "File \u001b[0;32m/usr/lib/python3.8/weakref.py:131\u001b[0m, in \u001b[0;36mWeakValueDictionary.__getitem__\u001b[0;34m(self, key)\u001b[0m\n\u001b[1;32m    130\u001b[0m     \u001b[38;5;28mself\u001b[39m\u001b[38;5;241m.\u001b[39m_commit_removals()\n\u001b[0;32m--> 131\u001b[0m o \u001b[38;5;241m=\u001b[39m \u001b[38;5;28;43mself\u001b[39;49m\u001b[38;5;241;43m.\u001b[39;49m\u001b[43mdata\u001b[49m\u001b[43m[\u001b[49m\u001b[43mkey\u001b[49m\u001b[43m]\u001b[49m()\n\u001b[1;32m    132\u001b[0m \u001b[38;5;28;01mif\u001b[39;00m o \u001b[38;5;129;01mis\u001b[39;00m \u001b[38;5;28;01mNone\u001b[39;00m:\n",
      "\u001b[0;31mKeyError\u001b[0m: None",
      "\nDuring handling of the above exception, another exception occurred:\n",
      "\u001b[0;31mOSError\u001b[0m                                   Traceback (most recent call last)",
      "Input \u001b[0;32mIn [19]\u001b[0m, in \u001b[0;36m<cell line: 13>\u001b[0;34m()\u001b[0m\n\u001b[1;32m     80\u001b[0m \u001b[38;5;28;01mexcept\u001b[39;00m sr\u001b[38;5;241m.\u001b[39mUnknownValueError:\n\u001b[1;32m     81\u001b[0m     \u001b[38;5;28mprint\u001b[39m( \u001b[38;5;124m\"\u001b[39m\u001b[38;5;124mNUBI:I can\u001b[39m\u001b[38;5;124m'\u001b[39m\u001b[38;5;124mt hear you\u001b[39m\u001b[38;5;124m\"\u001b[39m)\n\u001b[0;32m---> 82\u001b[0m     \u001b[43mSpeakText\u001b[49m\u001b[43m(\u001b[49m\u001b[38;5;124;43m\"\u001b[39;49m\u001b[38;5;124;43mI can\u001b[39;49m\u001b[38;5;124;43m'\u001b[39;49m\u001b[38;5;124;43mt hear you\u001b[39;49m\u001b[38;5;124;43m\"\u001b[39;49m\u001b[43m)\u001b[49m\n",
      "Input \u001b[0;32mIn [11]\u001b[0m, in \u001b[0;36mSpeakText\u001b[0;34m(command)\u001b[0m\n\u001b[1;32m      3\u001b[0m \u001b[38;5;28;01mdef\u001b[39;00m \u001b[38;5;21mSpeakText\u001b[39m(command):\n\u001b[1;32m      4\u001b[0m       \n\u001b[1;32m      5\u001b[0m     \u001b[38;5;66;03m# Initialize the engine\u001b[39;00m\n\u001b[0;32m----> 6\u001b[0m     engine \u001b[38;5;241m=\u001b[39m \u001b[43mpyttsx3\u001b[49m\u001b[38;5;241;43m.\u001b[39;49m\u001b[43minit\u001b[49m\u001b[43m(\u001b[49m\u001b[43m)\u001b[49m\n\u001b[1;32m      7\u001b[0m     engine\u001b[38;5;241m.\u001b[39msay(command) \n\u001b[1;32m      8\u001b[0m     engine\u001b[38;5;241m.\u001b[39mrunAndWait()\n",
      "File \u001b[0;32m~/notebook/jupyterenv/lib/python3.8/site-packages/pyttsx3/__init__.py:22\u001b[0m, in \u001b[0;36minit\u001b[0;34m(driverName, debug)\u001b[0m\n\u001b[1;32m     20\u001b[0m     eng \u001b[38;5;241m=\u001b[39m _activeEngines[driverName]\n\u001b[1;32m     21\u001b[0m \u001b[38;5;28;01mexcept\u001b[39;00m \u001b[38;5;167;01mKeyError\u001b[39;00m:\n\u001b[0;32m---> 22\u001b[0m     eng \u001b[38;5;241m=\u001b[39m \u001b[43mEngine\u001b[49m\u001b[43m(\u001b[49m\u001b[43mdriverName\u001b[49m\u001b[43m,\u001b[49m\u001b[43m \u001b[49m\u001b[43mdebug\u001b[49m\u001b[43m)\u001b[49m\n\u001b[1;32m     23\u001b[0m     _activeEngines[driverName] \u001b[38;5;241m=\u001b[39m eng\n\u001b[1;32m     24\u001b[0m \u001b[38;5;28;01mreturn\u001b[39;00m eng\n",
      "File \u001b[0;32m~/notebook/jupyterenv/lib/python3.8/site-packages/pyttsx3/engine.py:30\u001b[0m, in \u001b[0;36mEngine.__init__\u001b[0;34m(self, driverName, debug)\u001b[0m\n\u001b[1;32m     20\u001b[0m \u001b[38;5;28;01mdef\u001b[39;00m \u001b[38;5;21m__init__\u001b[39m(\u001b[38;5;28mself\u001b[39m, driverName\u001b[38;5;241m=\u001b[39m\u001b[38;5;28;01mNone\u001b[39;00m, debug\u001b[38;5;241m=\u001b[39m\u001b[38;5;28;01mFalse\u001b[39;00m):\n\u001b[1;32m     21\u001b[0m     \u001b[38;5;124;03m\"\"\"\u001b[39;00m\n\u001b[1;32m     22\u001b[0m \u001b[38;5;124;03m    Constructs a new TTS engine instance.\u001b[39;00m\n\u001b[1;32m     23\u001b[0m \n\u001b[0;32m   (...)\u001b[0m\n\u001b[1;32m     28\u001b[0m \u001b[38;5;124;03m    @type debug: bool\u001b[39;00m\n\u001b[1;32m     29\u001b[0m \u001b[38;5;124;03m    \"\"\"\u001b[39;00m\n\u001b[0;32m---> 30\u001b[0m     \u001b[38;5;28mself\u001b[39m\u001b[38;5;241m.\u001b[39mproxy \u001b[38;5;241m=\u001b[39m \u001b[43mdriver\u001b[49m\u001b[38;5;241;43m.\u001b[39;49m\u001b[43mDriverProxy\u001b[49m\u001b[43m(\u001b[49m\u001b[43mweakref\u001b[49m\u001b[38;5;241;43m.\u001b[39;49m\u001b[43mproxy\u001b[49m\u001b[43m(\u001b[49m\u001b[38;5;28;43mself\u001b[39;49m\u001b[43m)\u001b[49m\u001b[43m,\u001b[49m\u001b[43m \u001b[49m\u001b[43mdriverName\u001b[49m\u001b[43m,\u001b[49m\u001b[43m \u001b[49m\u001b[43mdebug\u001b[49m\u001b[43m)\u001b[49m\n\u001b[1;32m     31\u001b[0m     \u001b[38;5;66;03m# initialize other vars\u001b[39;00m\n\u001b[1;32m     32\u001b[0m     \u001b[38;5;28mself\u001b[39m\u001b[38;5;241m.\u001b[39m_connects \u001b[38;5;241m=\u001b[39m {}\n",
      "File \u001b[0;32m~/notebook/jupyterenv/lib/python3.8/site-packages/pyttsx3/driver.py:50\u001b[0m, in \u001b[0;36mDriverProxy.__init__\u001b[0;34m(self, engine, driverName, debug)\u001b[0m\n\u001b[1;32m     48\u001b[0m \u001b[38;5;66;03m# import driver module\u001b[39;00m\n\u001b[1;32m     49\u001b[0m name \u001b[38;5;241m=\u001b[39m \u001b[38;5;124m'\u001b[39m\u001b[38;5;124mpyttsx3.drivers.\u001b[39m\u001b[38;5;132;01m%s\u001b[39;00m\u001b[38;5;124m'\u001b[39m \u001b[38;5;241m%\u001b[39m driverName\n\u001b[0;32m---> 50\u001b[0m \u001b[38;5;28mself\u001b[39m\u001b[38;5;241m.\u001b[39m_module \u001b[38;5;241m=\u001b[39m \u001b[43mimportlib\u001b[49m\u001b[38;5;241;43m.\u001b[39;49m\u001b[43mimport_module\u001b[49m\u001b[43m(\u001b[49m\u001b[43mname\u001b[49m\u001b[43m)\u001b[49m\n\u001b[1;32m     51\u001b[0m \u001b[38;5;66;03m# build driver instance\u001b[39;00m\n\u001b[1;32m     52\u001b[0m \u001b[38;5;28mself\u001b[39m\u001b[38;5;241m.\u001b[39m_driver \u001b[38;5;241m=\u001b[39m \u001b[38;5;28mself\u001b[39m\u001b[38;5;241m.\u001b[39m_module\u001b[38;5;241m.\u001b[39mbuildDriver(weakref\u001b[38;5;241m.\u001b[39mproxy(\u001b[38;5;28mself\u001b[39m))\n",
      "File \u001b[0;32m/usr/lib/python3.8/importlib/__init__.py:127\u001b[0m, in \u001b[0;36mimport_module\u001b[0;34m(name, package)\u001b[0m\n\u001b[1;32m    125\u001b[0m             \u001b[38;5;28;01mbreak\u001b[39;00m\n\u001b[1;32m    126\u001b[0m         level \u001b[38;5;241m+\u001b[39m\u001b[38;5;241m=\u001b[39m \u001b[38;5;241m1\u001b[39m\n\u001b[0;32m--> 127\u001b[0m \u001b[38;5;28;01mreturn\u001b[39;00m \u001b[43m_bootstrap\u001b[49m\u001b[38;5;241;43m.\u001b[39;49m\u001b[43m_gcd_import\u001b[49m\u001b[43m(\u001b[49m\u001b[43mname\u001b[49m\u001b[43m[\u001b[49m\u001b[43mlevel\u001b[49m\u001b[43m:\u001b[49m\u001b[43m]\u001b[49m\u001b[43m,\u001b[49m\u001b[43m \u001b[49m\u001b[43mpackage\u001b[49m\u001b[43m,\u001b[49m\u001b[43m \u001b[49m\u001b[43mlevel\u001b[49m\u001b[43m)\u001b[49m\n",
      "File \u001b[0;32m<frozen importlib._bootstrap>:1014\u001b[0m, in \u001b[0;36m_gcd_import\u001b[0;34m(name, package, level)\u001b[0m\n",
      "File \u001b[0;32m<frozen importlib._bootstrap>:991\u001b[0m, in \u001b[0;36m_find_and_load\u001b[0;34m(name, import_)\u001b[0m\n",
      "File \u001b[0;32m<frozen importlib._bootstrap>:975\u001b[0m, in \u001b[0;36m_find_and_load_unlocked\u001b[0;34m(name, import_)\u001b[0m\n",
      "File \u001b[0;32m<frozen importlib._bootstrap>:671\u001b[0m, in \u001b[0;36m_load_unlocked\u001b[0;34m(spec)\u001b[0m\n",
      "File \u001b[0;32m<frozen importlib._bootstrap_external>:848\u001b[0m, in \u001b[0;36mexec_module\u001b[0;34m(self, module)\u001b[0m\n",
      "File \u001b[0;32m<frozen importlib._bootstrap>:219\u001b[0m, in \u001b[0;36m_call_with_frames_removed\u001b[0;34m(f, *args, **kwds)\u001b[0m\n",
      "File \u001b[0;32m~/notebook/jupyterenv/lib/python3.8/site-packages/pyttsx3/drivers/espeak.py:9\u001b[0m, in \u001b[0;36m<module>\u001b[0;34m\u001b[0m\n\u001b[1;32m      7\u001b[0m \u001b[38;5;28;01mfrom\u001b[39;00m \u001b[38;5;21;01mtempfile\u001b[39;00m \u001b[38;5;28;01mimport\u001b[39;00m NamedTemporaryFile\n\u001b[1;32m      8\u001b[0m \u001b[38;5;28;01mfrom\u001b[39;00m \u001b[38;5;21;01m.\u001b[39;00m\u001b[38;5;21;01m.\u001b[39;00m\u001b[38;5;21;01mvoice\u001b[39;00m \u001b[38;5;28;01mimport\u001b[39;00m Voice\n\u001b[0;32m----> 9\u001b[0m \u001b[38;5;28;01mfrom\u001b[39;00m \u001b[38;5;21;01m.\u001b[39;00m \u001b[38;5;28;01mimport\u001b[39;00m _espeak, toUtf8, fromUtf8\n\u001b[1;32m     12\u001b[0m \u001b[38;5;28;01mdef\u001b[39;00m \u001b[38;5;21mbuildDriver\u001b[39m(proxy):\n\u001b[1;32m     13\u001b[0m     \u001b[38;5;28;01mreturn\u001b[39;00m EspeakDriver(proxy)\n",
      "File \u001b[0;32m~/notebook/jupyterenv/lib/python3.8/site-packages/pyttsx3/drivers/_espeak.py:18\u001b[0m, in \u001b[0;36m<module>\u001b[0;34m\u001b[0m\n\u001b[1;32m     15\u001b[0m         aflags\u001b[38;5;241m.\u001b[39mappend((arg[\u001b[38;5;241m2\u001b[39m], arg[\u001b[38;5;241m0\u001b[39m]) \u001b[38;5;241m+\u001b[39m arg[\u001b[38;5;241m3\u001b[39m:])\n\u001b[1;32m     16\u001b[0m     \u001b[38;5;28;01mreturn\u001b[39;00m CFUNCTYPE(result, \u001b[38;5;241m*\u001b[39matypes)((name, dll), \u001b[38;5;28mtuple\u001b[39m(aflags))\n\u001b[0;32m---> 18\u001b[0m dll \u001b[38;5;241m=\u001b[39m \u001b[43mcdll\u001b[49m\u001b[38;5;241;43m.\u001b[39;49m\u001b[43mLoadLibrary\u001b[49m\u001b[43m(\u001b[49m\u001b[38;5;124;43m'\u001b[39;49m\u001b[38;5;124;43mlibespeak.so.1\u001b[39;49m\u001b[38;5;124;43m'\u001b[39;49m\u001b[43m)\u001b[49m\n\u001b[1;32m     20\u001b[0m \u001b[38;5;66;03m# constants and such from speak_lib.h\u001b[39;00m\n\u001b[1;32m     22\u001b[0m EVENT_LIST_TERMINATED \u001b[38;5;241m=\u001b[39m \u001b[38;5;241m0\u001b[39m\n",
      "File \u001b[0;32m/usr/lib/python3.8/ctypes/__init__.py:451\u001b[0m, in \u001b[0;36mLibraryLoader.LoadLibrary\u001b[0;34m(self, name)\u001b[0m\n\u001b[1;32m    450\u001b[0m \u001b[38;5;28;01mdef\u001b[39;00m \u001b[38;5;21mLoadLibrary\u001b[39m(\u001b[38;5;28mself\u001b[39m, name):\n\u001b[0;32m--> 451\u001b[0m     \u001b[38;5;28;01mreturn\u001b[39;00m \u001b[38;5;28;43mself\u001b[39;49m\u001b[38;5;241;43m.\u001b[39;49m\u001b[43m_dlltype\u001b[49m\u001b[43m(\u001b[49m\u001b[43mname\u001b[49m\u001b[43m)\u001b[49m\n",
      "File \u001b[0;32m/usr/lib/python3.8/ctypes/__init__.py:373\u001b[0m, in \u001b[0;36mCDLL.__init__\u001b[0;34m(self, name, mode, handle, use_errno, use_last_error, winmode)\u001b[0m\n\u001b[1;32m    370\u001b[0m \u001b[38;5;28mself\u001b[39m\u001b[38;5;241m.\u001b[39m_FuncPtr \u001b[38;5;241m=\u001b[39m _FuncPtr\n\u001b[1;32m    372\u001b[0m \u001b[38;5;28;01mif\u001b[39;00m handle \u001b[38;5;129;01mis\u001b[39;00m \u001b[38;5;28;01mNone\u001b[39;00m:\n\u001b[0;32m--> 373\u001b[0m     \u001b[38;5;28mself\u001b[39m\u001b[38;5;241m.\u001b[39m_handle \u001b[38;5;241m=\u001b[39m \u001b[43m_dlopen\u001b[49m\u001b[43m(\u001b[49m\u001b[38;5;28;43mself\u001b[39;49m\u001b[38;5;241;43m.\u001b[39;49m\u001b[43m_name\u001b[49m\u001b[43m,\u001b[49m\u001b[43m \u001b[49m\u001b[43mmode\u001b[49m\u001b[43m)\u001b[49m\n\u001b[1;32m    374\u001b[0m \u001b[38;5;28;01melse\u001b[39;00m:\n\u001b[1;32m    375\u001b[0m     \u001b[38;5;28mself\u001b[39m\u001b[38;5;241m.\u001b[39m_handle \u001b[38;5;241m=\u001b[39m handle\n",
      "\u001b[0;31mOSError\u001b[0m: libespeak.so.1: cannot open shared object file: No such file or directory"
>>>>>>> dccf68c3725df905c83aaaac2f27f81ad19267c8
     ]
    }
   ],
   "source": [
    "# Loop infinitely for user to\n",
    "# speak\n",
    "model = keras.models.load_model('voice_assistant')\n",
    "with open('tokenizer.pickle','rb') as handle:\n",
    "    tokenizer = pickle.load(handle)\n",
    "with open('lbl_encoder.pickle','rb') as ecn:\n",
    "    lbl_encoder = pickle.load(ecn)\n",
    "max_len = 20\n",
    "count=104\n",
    "while(1):    \n",
    "      \n",
    "    # Exception handling to handle\n",
    "    # exceptions at the runtime\n",
    "    try:\n",
    "          \n",
    "        # use the microphone as source for input.\n",
    "        with sr.Microphone() as source2:\n",
    "              \n",
    "            # wait for a second to let the recognizer\n",
    "            # adjust the energy threshold based on\n",
    "            # the surrounding noise level \n",
    "            r.adjust_for_ambient_noise(source2, duration=0.2)\n",
    "              \n",
    "            #listens for the user's input \n",
    "            audio2 = r.listen(source2)\n",
    "              \n",
    "            # Using ggogle to recognize audio\n",
    "            MyText = r.recognize_google(audio2)\n",
    "            MyText = MyText.lower()\n",
    "            translator=Translator(from_lang='en',to_lang=\"ml\")\n",
    "            \n",
    "            \n",
    "            \n",
    "            \n",
    "            \n",
    "  \n",
    "\n",
    "            print(\"User: \"+ MyText)\n",
    "            #print(Fore.LIGHTBLUE_EX + \"User: \"+ Style.RESET_ALL,end=\"\")\n",
    "            #inp = input()\n",
    "            if MyText.lower() == \"bye\":\n",
    "                break\n",
    "            if MyText.lower() == \"book search\":\n",
    "                text=\"You can search for a book in three ways: by author, publisher, and title. Which one is your preferred choice? \"\n",
    "                translation=translator.translate(text)\n",
    "                print(Fore.GREEN + \"NUBI: \"+translation)\n",
    "                mal=gTTS(translation,lang=\"ml\")\n",
    "                mal.save(\"voice5.mp3\")\n",
    "                playsound(\"voice5.mp3\")\n",
    "                os.remove(\"voice5.mp3\")\n",
    "            \n",
    "                #print(\"Tell book name you like\")\n",
    "                #SpeakText(\"Tell book name you like\")\n",
    "                while(1):\n",
    "                    try:\n",
    "                        with sr.Microphone() as source2:\n",
    "                            r.adjust_for_ambient_noise(source2, duration=0.2)\n",
    "                            audio2 = r.listen(source2)\n",
    "                            MyBook = r.recognize_google(audio2)\n",
    "                            MyBooks = MyBook.lower()\n",
    "                            book=MyBooks.title()\n",
    "                            print(book)\n",
    "                            if MyBook.lower() == \"author\" or MyBook.lower() == \"other\" or MyBook.lower() == \"order\" or MyBook.lower() == \"weather\":\n",
    "                                text=\"tell your author name \"\n",
    "                                translation=translator.translate(text)\n",
    "                                print(Fore.GREEN + \"NUBI: \"+translation)\n",
    "                                mal=gTTS(translation,lang=\"ml\")\n",
    "                                mal.save(\"voice5.mp3\")\n",
    "                                playsound(\"voice5.mp3\")\n",
    "                                os.remove(\"voice5.mp3\")\n",
    "                                with sr.Microphone() as source3:\n",
    "                                     r.adjust_for_ambient_noise(source3, duration=0.2)\n",
    "                                     audio3 = r.listen(source3)\n",
    "                                     author = r.recognize_google(audio3)\n",
    "                                     authos = author.lower()\n",
    "                                     authors=authos.title()\n",
    "                                     print( authors)\n",
    "                            if MyBook.lower() == \"title\" :\n",
    "                                text=\"tell your book name \"\n",
    "                                translation=translator.translate(text)\n",
    "                                print(Fore.GREEN + \"NUBI: \"+translation)\n",
    "                                mal=gTTS(translation,lang=\"ml\")\n",
    "                                mal.save(\"voice5.mp3\")\n",
    "                                playsound(\"voice5.mp3\")\n",
    "                                os.remove(\"voice5.mp3\")\n",
    "                                with sr.Microphone() as source3:\n",
    "                                     r.adjust_for_ambient_noise(source3, duration=0.2)\n",
    "                                     audio3 = r.listen(source3)\n",
    "                                     bookk = r.recognize_google(audio3)\n",
    "                                     boookk = bookk.lower()\n",
    "                                     bookks=boookk.title()\n",
    "                                     print(bookks)\n",
    "                            if MyBook.lower() == \"publisher\" :\n",
    "                                text=\"tell your publisher name \"\n",
    "                                translation=translator.translate(text)\n",
    "                                print(Fore.GREEN + \"NUBI: \"+translation)\n",
    "                                mal=gTTS(translation,lang=\"ml\")\n",
    "                                mal.save(\"voice5.mp3\")\n",
    "                                playsound(\"voice5.mp3\")\n",
    "                                os.remove(\"voice5.mp3\")\n",
    "                                with sr.Microphone() as source3:\n",
    "                                     r.adjust_for_ambient_noise(source3, duration=0.2)\n",
    "                                     audio3 = r.listen(source3)\n",
    "                                     publisher = r.recognize_google(audio3)\n",
    "                                     publishers = publisher.lower()\n",
    "                                     publisherss=publishers.title()\n",
    "                                     print(publisherss)\n",
    "                                     \n",
    "                                     \n",
    "\n",
    "                            print(Fore.GREEN + \"NUBI: \"+\"I would prefer that you read.\")\n",
    "                            SpeakText(\"I would prefer that you read\")\n",
    "                            if MyBook.lower() == \"author\" or MyBook.lower() == \"other\" or MyBook.lower() == \"order\" or MyBook.lower() == \"weather\":\n",
    "                                recommend_books_on_authors(\"Crown\")\n",
    "                            if MyBook.lower() == \"title\" :\n",
    "                                BookRecommender(bookks)\n",
    "                            if MyBook.lower() == \"publisher\" :\n",
    "                                recommend_books_on_publishers(\"Bill Bryson\")\n",
    "                                \n",
    "                            print( authors)\n",
    "                    except sr.RequestError as e:\n",
    "                        print(\"Could not request results; {0}\".format(e))\n",
    "                        \n",
    "            result = model.predict(keras.preprocessing.sequence.pad_sequences(tokenizer.texts_to_sequences([MyText]),\n",
    "                                                                           truncating='post',maxlen=max_len))\n",
    "        \n",
    "            tag = lbl_encoder.inverse_transform([np.argmax(result)])\n",
    "            for i in data['intents']:\n",
    "                if i['tag']==tag:\n",
    "                    print(Fore.GREEN + \"NUBI: \"+ Style.RESET_ALL,np.random.choice(i['responses']))\n",
    "                    translation=translator.translate(np.random.choice(i['responses']))\n",
    "                    print(\"NUBI:\"+translation)\n",
    "                    mal=gTTS(translation,lang=\"ml\")\n",
    "                    #mal.save(\"voice\"+chr(count)+\".mp3\")\n",
    "                    mal.save(\"voice.mp3\")\n",
    "                    #audio_file=\"voice\"+chr(count)+\".mp3\"\n",
    "                    #audio = Path().cwd() / audio_file\n",
    "                    playsound(\"voice.mp3\")\n",
    "                    os.remove(\"voice.mp3\")\n",
    "                    count=count+1\n",
    "                    #print(\"User: \"+np.random.choice(i['responses']))\n",
    "                    #SpeakText(np.random.choice(i['responses']))     \n",
    "            \n",
    "    except sr.RequestError as e:\n",
    "        print(\"Could not request results; {0}\".format(e))\n",
    "          \n",
    "    except sr.UnknownValueError:\n",
    "        translator=Translator(from_lang='en',to_lang=\"ml\")\n",
    "        text=\"I'm sorry, but I'm unable to hear you.\"\n",
    "        translation=translator.translate(text)\n",
    "        print(Fore.GREEN + \"chatBot: \"+translation)\n",
    "        mal=gTTS(translation,lang=\"ml\")\n",
    "        mal.save(\"voice2.mp3\")\n",
    "        playsound(\"voice2.mp3\")\n",
    "        #audio_file=\"voice2.mp3\"\n",
    "        #audio = Path().cwd() / audio_file\n",
    "        os.remove(\"voice2.mp3\")\n",
    "        #SpeakText(\"I can't hear you\")"
   ]
  },
  {
   "cell_type": "code",
   "execution_count": 32,
   "id": "124dbf06",
   "metadata": {},
   "outputs": [],
   "source": [
    "\n",
    "def recommend_books_on_publishers(x):\n",
    "    a = df[df['publisher']==x][['title','average_rating']]\n",
    "    a = a.sort_values(by = 'average_rating', ascending=False)\n",
    "    b = a.head(10)\n",
    "    return b['title']"
   ]
  },
  {
   "cell_type": "code",
   "execution_count": 33,
   "id": "45c52b7b",
   "metadata": {},
   "outputs": [
    {
     "data": {
      "text/plain": [
       "9        The Hitchhiker's Guide to the Galaxy (Hitchhik...\n",
       "10951                         The Unpublished David Ogilvy\n",
       "2444        World War Z: An Oral History of the Zombie War\n",
       "2795     Dreams from My Father: A Story of Race and Inh...\n",
       "2143                                     The Metamorphosis\n",
       "2652     The Audacity of Hope: Thoughts on Reclaiming t...\n",
       "6783                       The Little Baby Snoogle-Fleejer\n",
       "Name: title, dtype: object"
      ]
     },
     "execution_count": 33,
     "metadata": {},
     "output_type": "execute_result"
    }
   ],
   "source": [
    " recommend_books_on_publishers('Crown')"
   ]
  },
  {
   "cell_type": "code",
   "execution_count": 3,
   "id": "defd485b",
   "metadata": {},
   "outputs": [
    {
     "ename": "NameError",
     "evalue": "name 'df' is not defined",
     "output_type": "error",
     "traceback": [
      "\u001b[0;31m---------------------------------------------------------------------------\u001b[0m",
      "\u001b[0;31mNameError\u001b[0m                                 Traceback (most recent call last)",
      "Input \u001b[0;32mIn [3]\u001b[0m, in \u001b[0;36m<cell line: 1>\u001b[0;34m()\u001b[0m\n\u001b[0;32m----> 1\u001b[0m \u001b[43mdf\u001b[49m\u001b[38;5;241m.\u001b[39mhead(\u001b[38;5;241m3\u001b[39m)\n",
      "\u001b[0;31mNameError\u001b[0m: name 'df' is not defined"
     ]
    }
   ],
   "source": []
  },
  {
   "cell_type": "code",
   "execution_count": null,
<<<<<<< HEAD
   "id": "3bcbbfc9",
   "metadata": {},
   "outputs": [],
   "source": [
    "\n",
    "playsound(\"voiceh.mp3\")"
   ]
  },
  {
   "cell_type": "code",
   "execution_count": 21,
   "id": "baae6653",
   "metadata": {},
   "outputs": [
    {
     "ename": "IndentationError",
     "evalue": "unexpected indent (1061942205.py, line 2)",
     "output_type": "error",
     "traceback": [
      "\u001b[1;36m  Input \u001b[1;32mIn [21]\u001b[1;36m\u001b[0m\n\u001b[1;33m    def recommend_books_on_publishers(authors):\u001b[0m\n\u001b[1;37m    ^\u001b[0m\n\u001b[1;31mIndentationError\u001b[0m\u001b[1;31m:\u001b[0m unexpected indent\n"
     ]
    }
   ],
   "source": [
    "recommend_books_on_publishers('Crown')"
   ]
  },
  {
   "cell_type": "code",
   "execution_count": 51,
   "id": "7bc07984",
   "metadata": {},
   "outputs": [],
   "source": [
    "   def recommend_books_on_publisherss(authors):       \n",
    "         a = df[df['authors']==authors][['title','average_rating']]\n",
    "         a = a.sort_values(by = 'average_rating', ascending=False)\n",
    "         h = a.head(6)\n",
    "         for x in h['title']:        \n",
    "            SpeakText(x)\n",
    "            print(x)\n",
    "            "
   ]
  },
  {
   "cell_type": "code",
   "execution_count": 56,
   "id": "d76b10d7",
   "metadata": {},
   "outputs": [],
   "source": [
    "recommend_books_on_publishers('Bill Bryson')"
   ]
  },
  {
   "cell_type": "code",
   "execution_count": null,
   "id": "4fedb7ef",
=======
   "id": "ece9666f",
>>>>>>> dccf68c3725df905c83aaaac2f27f81ad19267c8
   "metadata": {},
   "outputs": [],
   "source": []
  }
 ],
 "metadata": {
  "kernelspec": {
   "display_name": "Python 3 (ipykernel)",
   "language": "python",
   "name": "python3"
  },
  "language_info": {
   "codemirror_mode": {
    "name": "ipython",
    "version": 3
   },
   "file_extension": ".py",
   "mimetype": "text/x-python",
   "name": "python",
   "nbconvert_exporter": "python",
   "pygments_lexer": "ipython3",
<<<<<<< HEAD
   "version": "3.9.10"
=======
   "version": "3.8.10"
>>>>>>> dccf68c3725df905c83aaaac2f27f81ad19267c8
  }
 },
 "nbformat": 4,
 "nbformat_minor": 5
}
