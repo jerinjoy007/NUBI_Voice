{
 "cells": [
  {
   "cell_type": "code",
   "execution_count": 1,
   "id": "1aeaa6db",
   "metadata": {},
   "outputs": [],
   "source": [
    "import speech_recognition as sr\n",
    "import pyttsx3 \n",
    "from translate import Translator\n",
    "from gtts import gTTS\n",
    "from playsound import playsound\n",
    "import json\n",
    "import numpy as np \n",
    "from tensorflow import keras\n",
    "from sklearn.preprocessing import LabelEncoder\n",
    "import pandas as pd \n",
    "from sklearn.preprocessing import MinMaxScaler\n",
    "from sklearn import neighbors\n",
    "import colorama\n",
    "colorama.init\n",
    "from colorama import Fore, Style, Back\n",
    "import random\n",
    "import pickle\n",
    "import os\n",
    "from pathlib import Path\n"
   ]
  },
  {
   "cell_type": "code",
   "execution_count": 2,
   "id": "c3d936cd",
   "metadata": {},
   "outputs": [],
   "source": [
    "with open('intents.json') as file:\n",
    "    data = json.load(file)"
   ]
  },
  {
   "cell_type": "code",
   "execution_count": 3,
   "id": "a432d20e",
   "metadata": {},
   "outputs": [
    {
     "name": "stderr",
     "output_type": "stream",
     "text": [
      "C:\\Users\\safee\\AppData\\Local\\Temp\\ipykernel_7584\\397317604.py:1: FutureWarning: The error_bad_lines argument has been deprecated and will be removed in a future version. Use on_bad_lines in the future.\n",
      "\n",
      "\n",
      "  df = pd.read_csv('books.csv', error_bad_lines = False)\n",
      "b'Skipping line 3350: expected 12 fields, saw 13\\nSkipping line 4704: expected 12 fields, saw 13\\nSkipping line 5879: expected 12 fields, saw 13\\nSkipping line 8981: expected 12 fields, saw 13\\n'\n"
     ]
    }
   ],
   "source": [
    "df = pd.read_csv('books.csv', error_bad_lines = False)"
   ]
  },
  {
   "cell_type": "code",
   "execution_count": 4,
   "id": "caff08b8",
   "metadata": {},
   "outputs": [],
   "source": [
    "# converting average rating column into categorical column\n",
    "def num_into_obj(x):\n",
    "    if x>=0 and x<=1:\n",
    "        return 'between 0 and 1'\n",
    "    elif x>1 and x<=2:\n",
    "        return 'between 1 and 2'\n",
    "    elif x>2 and x<=3:\n",
    "        return 'between 2 and 3'\n",
    "    elif x>3 and x<=4:\n",
    "        return 'between 3 and 4'\n",
    "    else:\n",
    "        return 'between 4 and 5'\n",
    "    \n",
    "df['rating_obj'] = df['average_rating'].apply(num_into_obj)"
   ]
  },
  {
   "cell_type": "code",
   "execution_count": 5,
   "id": "81728a1f",
   "metadata": {},
   "outputs": [],
   "source": [
    "# Let's encode the categorical column\n",
    "rating_df = pd.get_dummies(df['rating_obj'])\n",
    "#rating_df.head()"
   ]
  },
  {
   "cell_type": "code",
   "execution_count": 6,
   "id": "cd24dbfe",
   "metadata": {},
   "outputs": [],
   "source": [
    "# Let's encode the language code column as well\n",
    "language_df = pd.get_dummies(df['language_code'])\n",
    "#language_df.head()"
   ]
  },
  {
   "cell_type": "code",
   "execution_count": 7,
   "id": "0f67d561",
   "metadata": {},
   "outputs": [],
   "source": [
    "# Let's concat both the data frames and set the title column as the index \n",
    "features = pd.concat([rating_df, language_df, df['average_rating'], df['ratings_count'],df['title']], axis=1)\n",
    "features.set_index('title', inplace=True)\n",
    "#features.head()"
   ]
  },
  {
   "cell_type": "code",
   "execution_count": 8,
   "id": "e1b73c45",
   "metadata": {},
   "outputs": [],
   "source": [
    "min_max_scaler = MinMaxScaler()\n",
    "features_scaled = min_max_scaler.fit_transform(features)"
   ]
  },
  {
   "cell_type": "code",
   "execution_count": 9,
   "id": "53cef58c",
   "metadata": {},
   "outputs": [],
   "source": [
    "model = neighbors.NearestNeighbors(n_neighbors=6, algorithm='ball_tree', metric='euclidean')\n",
    "model.fit(features_scaled)\n",
    "dist, idlist = model.kneighbors(features_scaled)"
   ]
  },
  {
   "cell_type": "code",
   "execution_count": 10,
   "id": "d372eadb",
   "metadata": {},
   "outputs": [],
   "source": [
    "# Initialize the recognizer \n",
    "r = sr.Recognizer() "
   ]
  },
  {
   "cell_type": "code",
   "execution_count": 57,
   "id": "098dd517",
   "metadata": {},
   "outputs": [],
   "source": [
    "# Function to convert text to\n",
    "# speech\n",
    "def SpeakText(command):\n",
    "      \n",
    "    # Initialize the engine\n",
    "    engine = pyttsx3.init()\n",
    "    engine.say(command) \n",
    "    engine.runAndWait()\n",
    "\n",
    "def recommend_books_on_authors(authors):\n",
    "    a = df[df['authors']==authors][['title','average_rating']]\n",
    "    a = a.sort_values(by = 'average_rating', ascending=False)\n",
    "    h = a.head(6)\n",
    "    for x in h['title']:\n",
    "        SpeakText(x)\n",
    "        print(x)\n",
    "        \n",
    "def recommend_books_on_publishers(publishers): \n",
    "    a = df[df['publisher']==publishers][['title','average_rating']]\n",
    "    a = a.sort_values(by = 'average_rating', ascending=False)\n",
    "    h = a.head(6)\n",
    "    for x in h['title']:\n",
    "        SpeakText(x)\n",
    "        print(x)       \n",
    "        \n",
    "def BookRecommender(book):\n",
    "    book_list_name = []\n",
    "    book_id = df[df['title'] == book].index\n",
    "    book_id = book_id[0]\n",
    "    #if MyText.lower() == \"thank you\":\n",
    "    try:        \n",
    "        #break\n",
    "        for newid in idlist[book_id]:\n",
    "            book_list_name.append(df.loc[newid].title)\n",
    "            SpeakText(df.loc[newid].title)\n",
    "            print(df.loc[newid].title)\n",
    "        return\n",
    "    except Exception as err:\n",
    "        print( \"NUBI:I can't hear you\")"
   ]
  },
  {
   "cell_type": "code",
   "execution_count": 55,
   "id": "2168a91c",
   "metadata": {},
   "outputs": [
    {
     "name": "stdout",
     "output_type": "stream",
     "text": [
      "User: book search\n",
      "\u001b[32mNUBI: നിങ്ങൾക്ക് മൂന്ന് തരത്തിൽ ഒരു പുസ്തകം തിരയാൻ കഴിയും: രചയിതാവ്, പ്രസാധകൻ, പേര് എന്നിവ പ്രകാരം. നിങ്ങളുടെ ഇഷ്ടപ്പെട്ട ചോയ്‌സ് ഏതാണ്?\n",
      "Publisher\n",
      "\u001b[32mNUBI: നിങ്ങളുടെ പ്രസാധകന്റെ പേര് പറയുക\n",
      "Building On\n",
      "\u001b[32mNUBI: I would prefer that you read.\n",
      "Stephen\n",
      "\u001b[32mchatBot: എന്നോട് ക്ഷമിക്കൂ, പക്ഷേ എനിക്ക് നിങ്ങളുടെ വാക്കുകൾ കേൾക്കാൻ കഴിയുന്നില്ല.\n",
      "\u001b[32mchatBot: എന്നോട് ക്ഷമിക്കൂ, പക്ഷേ എനിക്ക് നിങ്ങളുടെ വാക്കുകൾ കേൾക്കാൻ കഴിയുന്നില്ല.\n",
      "User: bye\n"
     ]
    }
   ],
   "source": [
    "# Loop infinitely for user to\n",
    "# speak\n",
    "model = keras.models.load_model('voice_assistant')\n",
    "with open('tokenizer.pickle','rb') as handle:\n",
    "    tokenizer = pickle.load(handle)\n",
    "with open('lbl_encoder.pickle','rb') as ecn:\n",
    "    lbl_encoder = pickle.load(ecn)\n",
    "max_len = 20\n",
    "count=104\n",
    "while(1):    \n",
    "      \n",
    "    # Exception handling to handle\n",
    "    # exceptions at the runtime\n",
    "    try:\n",
    "          \n",
    "        # use the microphone as source for input.\n",
    "        with sr.Microphone() as source2:\n",
    "              \n",
    "            # wait for a second to let the recognizer\n",
    "            # adjust the energy threshold based on\n",
    "            # the surrounding noise level \n",
    "            r.adjust_for_ambient_noise(source2, duration=0.2)\n",
    "              \n",
    "            #listens for the user's input \n",
    "            audio2 = r.listen(source2)\n",
    "              \n",
    "            # Using ggogle to recognize audio\n",
    "            MyText = r.recognize_google(audio2)\n",
    "            MyText = MyText.lower()\n",
    "            translator=Translator(from_lang='en',to_lang=\"ml\")\n",
    "            \n",
    "            \n",
    "            \n",
    "            \n",
    "            \n",
    "  \n",
    "\n",
    "            print(\"User: \"+ MyText)\n",
    "            #print(Fore.LIGHTBLUE_EX + \"User: \"+ Style.RESET_ALL,end=\"\")\n",
    "            #inp = input()\n",
    "            if MyText.lower() == \"bye\":\n",
    "                break\n",
    "            if MyText.lower() == \"book search\":\n",
    "                text=\"You can search for a book in three ways: by author, publisher, and title. Which one is your preferred choice? \"\n",
    "                translation=translator.translate(text)\n",
    "                print(Fore.GREEN + \"NUBI: \"+translation)\n",
    "                mal=gTTS(translation,lang=\"ml\")\n",
    "                mal.save(\"voice5.mp3\")\n",
    "                playsound(\"voice5.mp3\")\n",
    "                os.remove(\"voice5.mp3\")\n",
    "            \n",
    "                #print(\"Tell book name you like\")\n",
    "                #SpeakText(\"Tell book name you like\")\n",
    "                while(1):\n",
    "                    try:\n",
    "                        with sr.Microphone() as source2:\n",
    "                            r.adjust_for_ambient_noise(source2, duration=0.2)\n",
    "                            audio2 = r.listen(source2)\n",
    "                            MyBook = r.recognize_google(audio2)\n",
    "                            MyBooks = MyBook.lower()\n",
    "                            book=MyBooks.title()\n",
    "                            print(book)\n",
    "                            if MyBook.lower() == \"author\" or MyBook.lower() == \"other\" or MyBook.lower() == \"order\" or MyBook.lower() == \"weather\":\n",
    "                                text=\"tell your author name \"\n",
    "                                translation=translator.translate(text)\n",
    "                                print(Fore.GREEN + \"NUBI: \"+translation)\n",
    "                                mal=gTTS(translation,lang=\"ml\")\n",
    "                                mal.save(\"voice5.mp3\")\n",
    "                                playsound(\"voice5.mp3\")\n",
    "                                os.remove(\"voice5.mp3\")\n",
    "                                with sr.Microphone() as source3:\n",
    "                                     r.adjust_for_ambient_noise(source3, duration=0.2)\n",
    "                                     audio3 = r.listen(source3)\n",
    "                                     author = r.recognize_google(audio3)\n",
    "                                     authos = author.lower()\n",
    "                                     authors=authos.title()\n",
    "                                     print( authors)\n",
    "                            if MyBook.lower() == \"title\" :\n",
    "                                text=\"tell your book name \"\n",
    "                                translation=translator.translate(text)\n",
    "                                print(Fore.GREEN + \"NUBI: \"+translation)\n",
    "                                mal=gTTS(translation,lang=\"ml\")\n",
    "                                mal.save(\"voice5.mp3\")\n",
    "                                playsound(\"voice5.mp3\")\n",
    "                                os.remove(\"voice5.mp3\")\n",
    "                                with sr.Microphone() as source3:\n",
    "                                     r.adjust_for_ambient_noise(source3, duration=0.2)\n",
    "                                     audio3 = r.listen(source3)\n",
    "                                     bookk = r.recognize_google(audio3)\n",
    "                                     boookk = bookk.lower()\n",
    "                                     bookks=boookk.title()\n",
    "                                     print(bookks)\n",
    "                            if MyBook.lower() == \"publisher\" :\n",
    "                                text=\"tell your publisher name \"\n",
    "                                translation=translator.translate(text)\n",
    "                                print(Fore.GREEN + \"NUBI: \"+translation)\n",
    "                                mal=gTTS(translation,lang=\"ml\")\n",
    "                                mal.save(\"voice5.mp3\")\n",
    "                                playsound(\"voice5.mp3\")\n",
    "                                os.remove(\"voice5.mp3\")\n",
    "                                with sr.Microphone() as source3:\n",
    "                                     r.adjust_for_ambient_noise(source3, duration=0.2)\n",
    "                                     audio3 = r.listen(source3)\n",
    "                                     publisher = r.recognize_google(audio3)\n",
    "                                     publishers = publisher.lower()\n",
    "                                     publisherss=publishers.title()\n",
    "                                     print(publisherss)\n",
    "                                     \n",
    "                                     \n",
    "\n",
    "                            print(Fore.GREEN + \"NUBI: \"+\"I would prefer that you read.\")\n",
    "                            SpeakText(\"I would prefer that you read\")\n",
    "                            if MyBook.lower() == \"author\" or MyBook.lower() == \"other\" or MyBook.lower() == \"order\" or MyBook.lower() == \"weather\":\n",
    "                                recommend_books_on_authors(\"Crown\")\n",
    "                            if MyBook.lower() == \"title\" :\n",
    "                                BookRecommender(bookks)\n",
    "                            if MyBook.lower() == \"publisher\" :\n",
    "                                recommend_books_on_publishers(\"Bill Bryson\")\n",
    "                                \n",
    "                            print( authors)\n",
    "                    except sr.RequestError as e:\n",
    "                        print(\"Could not request results; {0}\".format(e))\n",
    "                        \n",
    "            result = model.predict(keras.preprocessing.sequence.pad_sequences(tokenizer.texts_to_sequences([MyText]),\n",
    "                                                                           truncating='post',maxlen=max_len))\n",
    "        \n",
    "            tag = lbl_encoder.inverse_transform([np.argmax(result)])\n",
    "            for i in data['intents']:\n",
    "                if i['tag']==tag:\n",
    "                    print(Fore.GREEN + \"NUBI: \"+ Style.RESET_ALL,np.random.choice(i['responses']))\n",
    "                    translation=translator.translate(np.random.choice(i['responses']))\n",
    "                    print(\"NUBI:\"+translation)\n",
    "                    mal=gTTS(translation,lang=\"ml\")\n",
    "                    #mal.save(\"voice\"+chr(count)+\".mp3\")\n",
    "                    mal.save(\"voice.mp3\")\n",
    "                    #audio_file=\"voice\"+chr(count)+\".mp3\"\n",
    "                    #audio = Path().cwd() / audio_file\n",
    "                    playsound(\"voice.mp3\")\n",
    "                    os.remove(\"voice.mp3\")\n",
    "                    count=count+1\n",
    "                    #print(\"User: \"+np.random.choice(i['responses']))\n",
    "                    #SpeakText(np.random.choice(i['responses']))     \n",
    "            \n",
    "    except sr.RequestError as e:\n",
    "        print(\"Could not request results; {0}\".format(e))\n",
    "          \n",
    "    except sr.UnknownValueError:\n",
    "        translator=Translator(from_lang='en',to_lang=\"ml\")\n",
    "        text=\"I'm sorry, but I'm unable to hear you.\"\n",
    "        translation=translator.translate(text)\n",
    "        print(Fore.GREEN + \"chatBot: \"+translation)\n",
    "        mal=gTTS(translation,lang=\"ml\")\n",
    "        mal.save(\"voice2.mp3\")\n",
    "        playsound(\"voice2.mp3\")\n",
    "        #audio_file=\"voice2.mp3\"\n",
    "        #audio = Path().cwd() / audio_file\n",
    "        os.remove(\"voice2.mp3\")\n",
    "        #SpeakText(\"I can't hear you\")"
   ]
  },
  {
   "cell_type": "code",
   "execution_count": 32,
   "id": "124dbf06",
   "metadata": {},
   "outputs": [],
   "source": [
    "\n",
    "def recommend_books_on_publishers(x):\n",
    "    a = df[df['publisher']==x][['title','average_rating']]\n",
    "    a = a.sort_values(by = 'average_rating', ascending=False)\n",
    "    b = a.head(10)\n",
    "    return b['title']"
   ]
  },
  {
   "cell_type": "code",
   "execution_count": 33,
   "id": "45c52b7b",
   "metadata": {},
   "outputs": [
    {
     "data": {
      "text/plain": [
       "9        The Hitchhiker's Guide to the Galaxy (Hitchhik...\n",
       "10951                         The Unpublished David Ogilvy\n",
       "2444        World War Z: An Oral History of the Zombie War\n",
       "2795     Dreams from My Father: A Story of Race and Inh...\n",
       "2143                                     The Metamorphosis\n",
       "2652     The Audacity of Hope: Thoughts on Reclaiming t...\n",
       "6783                       The Little Baby Snoogle-Fleejer\n",
       "Name: title, dtype: object"
      ]
     },
     "execution_count": 33,
     "metadata": {},
     "output_type": "execute_result"
    }
   ],
   "source": [
    " recommend_books_on_publishers('Crown')"
   ]
  },
  {
   "cell_type": "code",
   "execution_count": null,
   "id": "3bcbbfc9",
   "metadata": {},
   "outputs": [],
   "source": [
    "\n",
    "playsound(\"voiceh.mp3\")"
   ]
  },
  {
   "cell_type": "code",
   "execution_count": 21,
   "id": "baae6653",
   "metadata": {},
   "outputs": [
    {
     "ename": "IndentationError",
     "evalue": "unexpected indent (1061942205.py, line 2)",
     "output_type": "error",
     "traceback": [
      "\u001b[1;36m  Input \u001b[1;32mIn [21]\u001b[1;36m\u001b[0m\n\u001b[1;33m    def recommend_books_on_publishers(authors):\u001b[0m\n\u001b[1;37m    ^\u001b[0m\n\u001b[1;31mIndentationError\u001b[0m\u001b[1;31m:\u001b[0m unexpected indent\n"
     ]
    }
   ],
   "source": [
    "recommend_books_on_publishers('Crown')"
   ]
  },
  {
   "cell_type": "code",
   "execution_count": 51,
   "id": "7bc07984",
   "metadata": {},
   "outputs": [],
   "source": [
    "   def recommend_books_on_publisherss(authors):       \n",
    "         a = df[df['authors']==authors][['title','average_rating']]\n",
    "         a = a.sort_values(by = 'average_rating', ascending=False)\n",
    "         h = a.head(6)\n",
    "         for x in h['title']:        \n",
    "            SpeakText(x)\n",
    "            print(x)\n",
    "            "
   ]
  },
  {
   "cell_type": "code",
   "execution_count": 56,
   "id": "d76b10d7",
   "metadata": {},
   "outputs": [],
   "source": [
    "recommend_books_on_publishers('Bill Bryson')"
   ]
  },
  {
   "cell_type": "code",
   "execution_count": null,
   "id": "4fedb7ef",
   "metadata": {},
   "outputs": [],
   "source": []
  }
 ],
 "metadata": {
  "kernelspec": {
   "display_name": "Python 3 (ipykernel)",
   "language": "python",
   "name": "python3"
  },
  "language_info": {
   "codemirror_mode": {
    "name": "ipython",
    "version": 3
   },
   "file_extension": ".py",
   "mimetype": "text/x-python",
   "name": "python",
   "nbconvert_exporter": "python",
   "pygments_lexer": "ipython3",
   "version": "3.9.10"
  }
 },
 "nbformat": 4,
 "nbformat_minor": 5
}
