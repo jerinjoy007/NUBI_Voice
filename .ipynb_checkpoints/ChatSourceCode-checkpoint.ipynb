{
 "cells": [
  {
   "cell_type": "code",
   "execution_count": 1,
   "id": "666f79bc",
   "metadata": {},
   "outputs": [],
   "source": [
    "import json"
   ]
  },
  {
   "cell_type": "code",
   "execution_count": 2,
   "id": "10290605",
   "metadata": {},
   "outputs": [],
   "source": [
    "import numpy as np "
   ]
  },
  {
   "cell_type": "code",
   "execution_count": 3,
   "id": "d94c3d99",
   "metadata": {},
   "outputs": [],
   "source": [
    "from tensorflow import keras"
   ]
  },
  {
   "cell_type": "code",
   "execution_count": 4,
   "id": "3ef81558",
   "metadata": {},
   "outputs": [],
   "source": [
    "from sklearn.preprocessing import LabelEncoder"
   ]
  },
  {
   "cell_type": "code",
   "execution_count": 5,
   "id": "8b474ae2",
   "metadata": {},
   "outputs": [
    {
     "data": {
      "text/plain": [
       "<function colorama.initialise.init(autoreset=False, convert=None, strip=None, wrap=True)>"
      ]
     },
     "execution_count": 5,
     "metadata": {},
     "output_type": "execute_result"
    }
   ],
   "source": [
    "import colorama\n",
    "colorama.init\n"
   ]
  },
  {
   "cell_type": "code",
   "execution_count": 6,
   "id": "2f210cd6",
   "metadata": {},
   "outputs": [],
   "source": [
    "from colorama import Fore, Style, Back\n"
   ]
  },
  {
   "cell_type": "code",
   "execution_count": 7,
   "id": "79a243d3",
   "metadata": {},
   "outputs": [],
   "source": [
    "import random"
   ]
  },
  {
   "cell_type": "code",
   "execution_count": 8,
   "id": "505d5897",
   "metadata": {},
   "outputs": [],
   "source": [
    "import pickle"
   ]
  },
  {
   "cell_type": "code",
   "execution_count": 9,
   "id": "10113992",
   "metadata": {},
   "outputs": [],
   "source": [
    "with open('intents.json') as file:\n",
    "    data = json.load(file)"
   ]
  },
  {
   "cell_type": "code",
   "execution_count": 10,
   "id": "5f0a8546",
   "metadata": {},
   "outputs": [],
   "source": [
    "def chat():\n",
    "    model = keras.models.load_model('voice_assistant')\n",
    "    with open('tokenizer.pickle','rb') as handle:\n",
    "        tokenizer = pickle.load(handle)\n",
    "    with open('lbl_encoder.pickle','rb') as ecn:\n",
    "        lbl_encoder = pickle.load(ecn)\n",
    "    max_len = 20\n",
    "    \n",
    "    while True:\n",
    "        print(Fore.LIGHTBLUE_EX + \"User: \"+ Style.RESET_ALL,end=\"\")\n",
    "        inp = input()\n",
    "        if inp.lower() == \"quit\":\n",
    "            break\n",
    "        \n",
    "        result = model.predict(keras.preprocessing.sequence.pad_sequences(tokenizer.texts_to_sequences([inp]),\n",
    "                                                                           truncating='post',maxlen=max_len))\n",
    "        \n",
    "        tag = lbl_encoder.inverse_transform([np.argmax(result)])\n",
    "        for i in data['intents']:\n",
    "            if i['tag']==tag:\n",
    "                print(Fore.GREEN + \"chatBot: \"+ np.random.choice(i['responses']))\n",
    "        "
   ]
  },
  {
   "cell_type": "code",
   "execution_count": 11,
   "id": "6f780fa9",
   "metadata": {},
   "outputs": [
    {
     "name": "stdout",
     "output_type": "stream",
     "text": [
      "\u001b[33mStart messaging with the bot(type quit to stop)\u001b[0m\n"
     ]
    }
   ],
   "source": [
    "print(Fore.YELLOW+\"Start messaging with the bot(type quit to stop)\"+Style.RESET_ALL)"
   ]
  },
  {
   "cell_type": "code",
   "execution_count": null,
   "id": "3b8aa45f",
   "metadata": {},
   "outputs": [
    {
     "name": "stdout",
     "output_type": "stream",
     "text": [
      "\u001b[94mUser: \u001b[0mwhat all services do you provide \n",
      "\u001b[32mchatBot: For now  I am only offering book search  other services will be available in the future\n",
      "\u001b[94mUser: \u001b[0mservices you provide\n",
      "\u001b[32mchatBot: Library assistance\n",
      "\u001b[94mUser: \u001b[0m"
     ]
    }
   ],
   "source": [
    "chat()"
   ]
  },
  {
   "cell_type": "code",
   "execution_count": null,
   "id": "0a7b2dc0",
   "metadata": {},
   "outputs": [],
   "source": []
  },
  {
   "cell_type": "code",
   "execution_count": null,
   "id": "2d814fbe",
   "metadata": {},
   "outputs": [],
   "source": []
  },
  {
   "cell_type": "code",
   "execution_count": null,
   "id": "cbf2b847",
   "metadata": {},
   "outputs": [],
   "source": []
  },
  {
   "cell_type": "code",
   "execution_count": null,
   "id": "8439a235",
   "metadata": {},
   "outputs": [],
   "source": []
  }
 ],
 "metadata": {
  "kernelspec": {
   "display_name": "Python 3 (ipykernel)",
   "language": "python",
   "name": "python3"
  },
  "language_info": {
   "codemirror_mode": {
    "name": "ipython",
    "version": 3
   },
   "file_extension": ".py",
   "mimetype": "text/x-python",
   "name": "python",
   "nbconvert_exporter": "python",
   "pygments_lexer": "ipython3",
   "version": "3.8.8"
  }
 },
 "nbformat": 4,
 "nbformat_minor": 5
}
