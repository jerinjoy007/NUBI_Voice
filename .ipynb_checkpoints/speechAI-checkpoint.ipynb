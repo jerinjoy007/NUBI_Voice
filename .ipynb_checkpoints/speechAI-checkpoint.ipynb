{
 "cells": [
  {
   "cell_type": "code",
   "execution_count": 1,
   "id": "1aeaa6db",
   "metadata": {},
   "outputs": [],
   "source": [
    "import speech_recognition as sr\n",
    "import pyttsx3 \n",
    "import json\n",
    "import numpy as np \n",
    "from tensorflow import keras\n",
    "from sklearn.preprocessing import LabelEncoder"
   ]
  },
  {
   "cell_type": "code",
   "execution_count": 2,
   "id": "edf597da",
   "metadata": {},
   "outputs": [
    {
     "data": {
      "text/plain": [
       "<function colorama.initialise.init(autoreset=False, convert=None, strip=None, wrap=True)>"
      ]
     },
     "execution_count": 2,
     "metadata": {},
     "output_type": "execute_result"
    }
   ],
   "source": [
    "import colorama\n",
    "colorama.init"
   ]
  },
  {
   "cell_type": "code",
   "execution_count": 5,
   "id": "c3d936cd",
   "metadata": {},
   "outputs": [],
   "source": [
    "from colorama import Fore, Style, Back\n",
    "import random\n",
    "import pickle\n",
    "with open('intents.json') as file:\n",
    "    data = json.load(file)"
   ]
  },
  {
   "cell_type": "code",
   "execution_count": null,
   "id": "a432d20e",
   "metadata": {},
   "outputs": [],
   "source": []
  },
  {
   "cell_type": "code",
   "execution_count": 6,
   "id": "d372eadb",
   "metadata": {},
   "outputs": [],
   "source": [
    "# Initialize the recognizer \n",
    "r = sr.Recognizer() "
   ]
  },
  {
   "cell_type": "code",
   "execution_count": 7,
   "id": "098dd517",
   "metadata": {},
   "outputs": [],
   "source": [
    "# Function to convert text to\n",
    "# speech\n",
    "def SpeakText(command):\n",
    "      \n",
    "    # Initialize the engine\n",
    "    engine = pyttsx3.init()\n",
    "    engine.say(command) \n",
    "    engine.runAndWait()\n",
    "\n"
   ]
  },
  {
   "cell_type": "code",
   "execution_count": null,
   "id": "2168a91c",
   "metadata": {},
   "outputs": [],
   "source": [
    "# Loop infinitely for user to\n",
    "# speak\n",
    "model = keras.models.load_model('chat_model')\n",
    "with open('tokenizer.pickle','rb') as handle:\n",
    "    tokenizer = pickle.load(handle)\n",
    "with open('lbl_encoder.pickle','rb') as ecn:\n",
    "    lbl_encoder = pickle.load(ecn)\n",
    "max_len = 20  \n",
    "while(1):    \n",
    "      \n",
    "    # Exception handling to handle\n",
    "    # exceptions at the runtime\n",
    "    try:\n",
    "          \n",
    "        # use the microphone as source for input.\n",
    "        with sr.Microphone() as source2:\n",
    "              \n",
    "            # wait for a second to let the recognizer\n",
    "            # adjust the energy threshold based on\n",
    "            # the surrounding noise level \n",
    "            r.adjust_for_ambient_noise(source2, duration=0.2)\n",
    "              \n",
    "            #listens for the user's input \n",
    "            audio2 = r.listen(source2)\n",
    "              \n",
    "            # Using ggogle to recognize audio\n",
    "            MyText = r.recognize_google(audio2)\n",
    "            MyText = MyText.lower()\n",
    "  \n",
    "\n",
    "        \n",
    "            #print(Fore.LIGHTBLUE_EX + \"User: \"+ Style.RESET_ALL,end=\"\")\n",
    "            #inp = input()\n",
    "            if MyText.lower() == \"quit\":\n",
    "                break\n",
    "        \n",
    "            result = model.predict(keras.preprocessing.sequence.pad_sequences(tokenizer.texts_to_sequences([MyText]),\n",
    "                                                                           truncating='post',maxlen=max_len))\n",
    "        \n",
    "            tag = lbl_encoder.inverse_transform([np.argmax(result)])\n",
    "            for i in data['intents']:\n",
    "                if i['tag']==tag:\n",
    "                    print(Fore.GREEN + \"chatBot: \"+ Style.RESET_ALL,np.random.choice(i['responses']))\n",
    "                    #print(\"Did you say \"+np.random.choice(i['responses']))\n",
    "                    SpeakText(np.random.choice(i['responses']))     \n",
    "            \n",
    "    except sr.RequestError as e:\n",
    "        print(\"Could not request results; {0}\".format(e))\n",
    "          \n",
    "    except sr.UnknownValueError:\n",
    "        print(\"unknown error occured\")"
   ]
  },
  {
   "cell_type": "code",
   "execution_count": null,
   "id": "124dbf06",
   "metadata": {},
   "outputs": [],
   "source": []
  }
 ],
 "metadata": {
  "kernelspec": {
   "display_name": "Python 3 (ipykernel)",
   "language": "python",
   "name": "python3"
  },
  "language_info": {
   "codemirror_mode": {
    "name": "ipython",
    "version": 3
   },
   "file_extension": ".py",
   "mimetype": "text/x-python",
   "name": "python",
   "nbconvert_exporter": "python",
   "pygments_lexer": "ipython3",
   "version": "3.8.8"
  }
 },
 "nbformat": 4,
 "nbformat_minor": 5
}
